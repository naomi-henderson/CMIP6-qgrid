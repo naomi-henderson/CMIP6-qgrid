{
 "cells": [
  {
   "cell_type": "markdown",
   "metadata": {},
   "source": [
    "## Demonstration: How to use the CSV catalog of CMIP6 data in GCS"
   ]
  },
  {
   "cell_type": "code",
   "execution_count": null,
   "metadata": {},
   "outputs": [],
   "source": [
    "import pandas as pd\n",
    "import xarray as xr\n",
    "import gcsfs\n",
    "gcsfs.__version__"
   ]
  },
  {
   "cell_type": "code",
   "execution_count": null,
   "metadata": {},
   "outputs": [],
   "source": [
    "#  First we connect to Google Cloud Storage (GCS)\n",
    "gcs = gcsfs.GCSFileSystem(project='pangeo-181919', token='anon', access='read_only')\n",
    "\n",
    "# We maintain a CSV catalog of the existing CMIP6 zstores on GCS on a LDEO-local machine,\n",
    "#   so we read it into a pandas dataframe\n",
    "dfcat = pd.read_csv('http://fletcher.ldeo.columbia.edu/catalogs/pangeo-cmip6.csv')\n",
    "\n",
    "print('number of zstores:',dfcat.shape[0])"
   ]
  },
  {
   "cell_type": "markdown",
   "metadata": {},
   "source": [
    "### View the CSV catalog:\n",
    "- use the 'qgrid' package\n",
    "- don't just scroll through, <b>sort</b> and <b>filter</b> in the qgrid widget to explore and subselect \n",
    "- then use (Shift)(mouse click) or (Command)(mouse click) to <b>select rows</b>"
   ]
  },
  {
   "cell_type": "code",
   "execution_count": null,
   "metadata": {},
   "outputs": [],
   "source": [
    "import qgrid\n",
    "widget = qgrid.show_grid(dfcat)\n",
    "widget"
   ]
  },
  {
   "cell_type": "markdown",
   "metadata": {},
   "source": [
    "### After you have filtered and/or selected"
   ]
  },
  {
   "cell_type": "code",
   "execution_count": null,
   "metadata": {},
   "outputs": [],
   "source": [
    "# if you have only filtered and sorted, use:\n",
    "dfnew = widget.get_changed_df()\n",
    "\n",
    "# if you have selected specific rows, use this instead: \n",
    "#dfnew = widget.get_selected_df()"
   ]
  },
  {
   "cell_type": "code",
   "execution_count": null,
   "metadata": {},
   "outputs": [],
   "source": [
    "# now you can list the URLs of the data your have selected:\n",
    "dfnew.zstore.values[0:10]"
   ]
  },
  {
   "cell_type": "markdown",
   "metadata": {},
   "source": [
    "### and to access the GCS zstores:\n",
    " - note that this requires gcsfs.__version__ >= 0.3.0 since the old method is deprecated (using gcsfs.GCSMap)\n",
    " - we will just grab the first from your list"
   ]
  },
  {
   "cell_type": "code",
   "execution_count": null,
   "metadata": {},
   "outputs": [],
   "source": [
    "zstore =  dfnew.zstore.values[0]\n",
    "print(zstore,':')\n",
    "map = gcs.get_mapper(zstore)\n",
    "ds = xr.open_zarr(map)\n",
    "ds"
   ]
  },
  {
   "cell_type": "code",
   "execution_count": null,
   "metadata": {},
   "outputs": [],
   "source": []
  }
 ],
 "metadata": {
  "kernelspec": {
   "display_name": "pangeo-latest",
   "language": "python",
   "name": "pangeo-latest"
  },
  "language_info": {
   "codemirror_mode": {
    "name": "ipython",
    "version": 3
   },
   "file_extension": ".py",
   "mimetype": "text/x-python",
   "name": "python",
   "nbconvert_exporter": "python",
   "pygments_lexer": "ipython3",
   "version": "3.7.3"
  }
 },
 "nbformat": 4,
 "nbformat_minor": 4
}
