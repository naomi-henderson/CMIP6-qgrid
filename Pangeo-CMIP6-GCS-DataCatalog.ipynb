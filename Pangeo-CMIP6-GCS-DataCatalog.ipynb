{
 "cells": [
  {
   "cell_type": "markdown",
   "metadata": {},
   "source": [
    "### Sample use of Qgrid to explore the current CMIP6 zarr stores in Google Cloud\n",
    "\n",
    "N.B. Please follow the guidelines given here:\n",
    "    https://pcmdi.llnl.gov/CMIP6/TermsOfUse/TermsOfUse6-1.html \n",
    "for using and citing the CMIP6 data. \n",
    "\n",
    "The license attribute/key from the original netcdf files has been preserved in each zarr store. "
   ]
  },
  {
   "cell_type": "code",
   "execution_count": 1,
   "metadata": {},
   "outputs": [],
   "source": [
    "import pandas as pd\n",
    "import qgrid "
   ]
  },
  {
   "cell_type": "code",
   "execution_count": 2,
   "metadata": {},
   "outputs": [
    {
     "name": "stdout",
     "output_type": "stream",
     "text": [
      "This catalog contains the 15901 CMIP6 datasets (zarr stores) currently available\n"
     ]
    }
   ],
   "source": [
    "# Read in the CMIP6 Hackathon Google Cloud catalog into a panda dataframe:\n",
    "#   we keep the catalog on fletcher for now\n",
    "\n",
    "dfcat = pd.read_csv('http://fletcher.ldeo.columbia.edu/catalogs/pangeo-cmip6.csv')\n",
    "print('This catalog contains the',dfcat.zstore.count(),'CMIP6 datasets (zarr stores) currently available')"
   ]
  },
  {
   "cell_type": "markdown",
   "metadata": {},
   "source": [
    "## The next cell opens a widget. The column labels are the official CMIP6 categories (keys). \n",
    "\n",
    "### Recall the basic categories of the CMIP6 collection (the \"Controlled Vocabularies\"): \n",
    "- `experiment_id`: the type of experiment\n",
    "- `source_id`: the model\n",
    "- `member_id`: the ensemble member code\n",
    "- `table_id`: the shorthand code for realm and frequency of the data\n",
    "\n",
    "### You can:\n",
    "- click on the filter symbol to make choices (enter text to search, or select boxes)\n",
    "- click on column label to sort\n",
    "\n",
    "### You can also:\n",
    "- clear filter choices after you make them\n",
    "- reset whole widget by re-running the cell"
   ]
  },
  {
   "cell_type": "code",
   "execution_count": 4,
   "metadata": {},
   "outputs": [
    {
     "data": {
      "application/vnd.jupyter.widget-view+json": {
       "model_id": "91c8ec785e25452ca0a6e40c2295c497",
       "version_major": 2,
       "version_minor": 0
      },
      "text/plain": [
       "QgridWidget(grid_options={'fullWidthRows': True, 'syncColumnCellResize': True, 'forceFitColumns': True, 'defau…"
      ]
     },
     "metadata": {},
     "output_type": "display_data"
    }
   ],
   "source": [
    "# the dataframe contains some redundant keys, lets view the catalog without them for now\n",
    "\n",
    "keys_all = list(dfcat.keys())\n",
    "keys_show = [\"source_id\",\"experiment_id\",\"member_id\",\"table_id\",\"variable_id\",'grid_label','zstore']\n",
    "keys_drop = list(set(keys_all) - set(keys_show))\n",
    "df_view = dfcat.drop(keys_drop,1)\n",
    "widget = qgrid.show_grid(df_view, column_definitions={'zstore':{'width':800}})\n",
    "\n",
    "widget"
   ]
  },
  {
   "cell_type": "markdown",
   "metadata": {},
   "source": [
    "## Now you can save the choices you made in a new dataframe"
   ]
  },
  {
   "cell_type": "code",
   "execution_count": null,
   "metadata": {},
   "outputs": [],
   "source": [
    "print(\"Choose zarr stores above by filtering or selecting:\")\n",
    "print(\"f - filter from available choices at the top of each column (default)\")\n",
    "print(\"s - select a few rows above (click and then <Shift> click or <Command> click)\")\n",
    "\n",
    "print(\"CHOOSE METHOD HERE:\")\n",
    "method = 'f'"
   ]
  },
  {
   "cell_type": "code",
   "execution_count": null,
   "metadata": {},
   "outputs": [],
   "source": [
    "if method == 's':\n",
    "    #  (a) select a few rows above (click and then <Shift> click or <Command> click)\n",
    "    #    if no zstores are listed, you didn't select any!\n",
    "    dfnew = widget.get_selected_df()\n",
    "else:\n",
    "    # use the filters available at the top of each column to select and then\n",
    "    dfnew = widget.get_changed_df()\n",
    "    "
   ]
  },
  {
   "cell_type": "code",
   "execution_count": null,
   "metadata": {},
   "outputs": [],
   "source": [
    "print(dfnew.zstore.values)"
   ]
  }
 ],
 "metadata": {
  "kernelspec": {
   "display_name": "pangeo-Jun2019",
   "language": "python",
   "name": "pangeojun2019"
  },
  "language_info": {
   "codemirror_mode": {
    "name": "ipython",
    "version": 3
   },
   "file_extension": ".py",
   "mimetype": "text/x-python",
   "name": "python",
   "nbconvert_exporter": "python",
   "pygments_lexer": "ipython3",
   "version": "3.6.7"
  }
 },
 "nbformat": 4,
 "nbformat_minor": 4
}
