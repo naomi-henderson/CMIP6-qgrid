{
 "cells": [
  {
   "cell_type": "markdown",
   "metadata": {},
   "source": [
    "<a id='top'></a>"
   ]
  },
  {
   "cell_type": "markdown",
   "metadata": {},
   "source": [
    "# Pangeo CMIP6 [Google Cloud Catalog](#catalog) Viewer "
   ]
  },
  {
   "cell_type": "markdown",
   "metadata": {},
   "source": [
    "### Helpful Links\n",
    "- To get started, '>Kernel >Restart Kernel & Run All Cells'\n",
    "- Check availability at: [ESGF](https://esgf-node.llnl.gov/search/cmip6/)\n",
    "- [Variable Names](#variables)\n",
    "- [Table Names](#tables)\n",
    "- [Model Information](#models)\n",
    "- Experiments: [Tier 1](#experiments1) [Tier 2](#experiments2) [Tier 3](#experiments3) [Tier 4](#experiments4)\n",
    "- Others: [Member_id](#member) [Grid_label](#grid)\n",
    "- file exceptions when concatenating in time: [Exceptions](#except)\n",
    "- CMIP6 Shared Socio-economic Pathways: [Pathways](#pathways)"
   ]
  },
  {
   "cell_type": "markdown",
   "metadata": {},
   "source": [
    "## Google Cloud Catalog Viewer\n",
    "- Click on filters (top right of each column)\n",
    "- Reset by running 'widget' cell again"
   ]
  },
  {
   "cell_type": "code",
   "execution_count": null,
   "metadata": {},
   "outputs": [],
   "source": [
    "import pandas as pd\n",
    "import qgrid\n",
    "#dfcat = pd.read_csv('https://cmip6.storage.googleapis.com/cmip6.csv')\n",
    "dfcat = pd.read_csv('https://cmip6.storage.googleapis.com/cmip6-zarr-consolidated-stores-noQC.csv')\n",
    "print('number of zstores:',dfcat.shape[0])\n",
    "dfcat.institution_id.nunique()"
   ]
  },
  {
   "cell_type": "markdown",
   "metadata": {},
   "source": [
    "<a id='catalog'></a>"
   ]
  },
  {
   "cell_type": "code",
   "execution_count": null,
   "metadata": {},
   "outputs": [],
   "source": [
    "widget=qgrid.show_grid(dfcat.drop(['institution_id','dcpp_init_year'],1))\n",
    "print('GCS Catalog')\n",
    "widget # NCAR/CESM2/1pctCO2/r1i1p1f1/Amon/ts/gn/"
   ]
  },
  {
   "cell_type": "code",
   "execution_count": null,
   "metadata": {},
   "outputs": [],
   "source": [
    "# save results\n",
    "df = widget.get_changed_df()     # use this to save filtered dataframe\n",
    "# df = widget.get_selected_df()  # use this instead to save selected rows"
   ]
  },
  {
   "cell_type": "markdown",
   "metadata": {},
   "source": [
    "<a id='variables'></a>"
   ]
  },
  {
   "cell_type": "markdown",
   "metadata": {},
   "source": [
    "## Variables\n",
    "return to [GCS catalog](#catalog) or [NCAR catalog](#NCARcatalog)"
   ]
  },
  {
   "cell_type": "code",
   "execution_count": null,
   "metadata": {},
   "outputs": [],
   "source": [
    "df = pd.read_csv('http://fletcher.ldeo.columbia.edu/catalogs/Variables.csv')\n",
    "qgrid.show_grid(df, column_definitions={'description':{'width':400}})"
   ]
  },
  {
   "cell_type": "markdown",
   "metadata": {},
   "source": [
    "<a id='tables'></a>"
   ]
  },
  {
   "cell_type": "markdown",
   "metadata": {},
   "source": [
    "## Tables\n",
    "return to [GCS catalog](#catalog) or [NCAR catalog](#NCARcatalog)"
   ]
  },
  {
   "cell_type": "code",
   "execution_count": null,
   "metadata": {},
   "outputs": [],
   "source": [
    "df = pd.read_csv('http://fletcher.ldeo.columbia.edu/catalogs/Tables.csv')\n",
    "qgrid.show_grid(df, column_definitions={'description':{'width':400}})"
   ]
  },
  {
   "cell_type": "markdown",
   "metadata": {},
   "source": [
    "<a id='models'></a>"
   ]
  },
  {
   "cell_type": "markdown",
   "metadata": {},
   "source": [
    "# Model Information\n",
    "return to [GCS catalog](#catalog) or [NCAR catalog](#NCARcatalog)"
   ]
  },
  {
   "cell_type": "code",
   "execution_count": null,
   "metadata": {},
   "outputs": [],
   "source": [
    "df = pd.read_csv('http://fletcher.ldeo.columbia.edu/catalogs/Models.csv')\n",
    "qgrid.show_grid(df)"
   ]
  },
  {
   "cell_type": "markdown",
   "metadata": {},
   "source": [
    "<a id='experiments1'></a>"
   ]
  },
  {
   "cell_type": "markdown",
   "metadata": {},
   "source": [
    "## Tier 1 Experiments\n",
    "return to [GCS catalog](#catalog) or [NCAR catalog](#NCARcatalog)"
   ]
  },
  {
   "cell_type": "code",
   "execution_count": null,
   "metadata": {},
   "outputs": [],
   "source": [
    "df = pd.read_csv('http://fletcher.ldeo.columbia.edu/catalogs/Experiments_tier1.csv')\n",
    "qgrid.show_grid(df)"
   ]
  },
  {
   "cell_type": "markdown",
   "metadata": {},
   "source": [
    "<a id='experiments2'></a>"
   ]
  },
  {
   "cell_type": "markdown",
   "metadata": {},
   "source": [
    "## Tier 2 Experiments\n",
    "return to [GCS catalog](#catalog) or [NCAR catalog](#NCARcatalog)"
   ]
  },
  {
   "cell_type": "code",
   "execution_count": null,
   "metadata": {},
   "outputs": [],
   "source": [
    "df = pd.read_csv('http://fletcher.ldeo.columbia.edu/catalogs/Experiments_tier2.csv')\n",
    "qgrid.show_grid(df)"
   ]
  },
  {
   "cell_type": "markdown",
   "metadata": {},
   "source": [
    "<a id='experiments3'></a>"
   ]
  },
  {
   "cell_type": "markdown",
   "metadata": {},
   "source": [
    "## Tier 3 Experiments\n",
    "return to [GCS catalog](#catalog) or [NCAR catalog](#NCARcatalog)"
   ]
  },
  {
   "cell_type": "code",
   "execution_count": null,
   "metadata": {},
   "outputs": [],
   "source": [
    "df = pd.read_csv('http://fletcher.ldeo.columbia.edu/catalogs/Experiments_tier3.csv')\n",
    "qgrid.show_grid(df)"
   ]
  },
  {
   "cell_type": "markdown",
   "metadata": {},
   "source": [
    "<a id='experiments4'></a>"
   ]
  },
  {
   "cell_type": "markdown",
   "metadata": {},
   "source": [
    "## Tier 4 Experiments\n",
    "return to [GCS catalog](#catalog) or [NCAR catalog](#NCARcatalog)"
   ]
  },
  {
   "cell_type": "code",
   "execution_count": null,
   "metadata": {},
   "outputs": [],
   "source": [
    "df = pd.read_csv('http://fletcher.ldeo.columbia.edu/catalogs/Experiments_tier4.csv')\n",
    "qgrid.show_grid(df)"
   ]
  },
  {
   "cell_type": "markdown",
   "metadata": {},
   "source": [
    "<a id='member'></a>"
   ]
  },
  {
   "cell_type": "markdown",
   "metadata": {},
   "source": [
    "## member_id: \n",
    "return to [GCS catalog](#catalog) or [NCAR catalog](#NCARcatalog)\n",
    "\n",
    "```\n",
    "a key constructed from 4 indices stored as global attributes:\n",
    "\n",
    "member_id = r<k>i<l>p<m>f<n>\n",
    "\n",
    "       where\n",
    "\n",
    " k = realization_index\n",
    " l = initialization_index\n",
    " m = physics_index\n",
    " n = forcing_index\n",
    "```"
   ]
  },
  {
   "cell_type": "markdown",
   "metadata": {},
   "source": [
    "<a id='grid'></a>"
   ]
  },
  {
   "cell_type": "markdown",
   "metadata": {},
   "source": [
    "## grid_label: \n",
    "return to [GCS catalog](#catalog) or [NCAR catalog](#NCARcatalog)\n",
    "```\n",
    "a key indicating if on native grid, regridded, etc\n",
    "Modeling groups may choose to report their output on the model’s native grid and/or regrid it to one or more target grids. To distinguish between output reported on different grids, a “grid_label” attribute is defined.\n",
    "\n",
    "The rules for assigning grid labels should make it easy for users to select (using the ESGF search tools) CMIP output that is on a grid considered by each\n",
    "modeling group to best represent its model -- the so-called “primary” grid. If output is reported on the native grid, this is always deemed the “primary”\n",
    "grid. If output is not reported on the native grid, then modeling groups should regrid the data to some primary grid of its choosing For the “primary”\n",
    "grid the following labels apply:\n",
    "\n",
    "grid_label = \"gn\" (output is reported on the native grid)\n",
    "grid_label = \"gr\" (output is not reported on the native grid, but instead is regridded by the modeling group to a “primary grid” of its choosing)\n",
    "grid_label = “gm” (global mean output is reported, so data are not gridded)\n",
    "\n",
    "As noted below sometimes a “z” or “a” or “g” is appended to the labels to indicate “zonal means” or grids limited to Antarctica or Greenland.\n",
    "If besides the “primary” grid, output is regridded to an additional grid, then for this output:\n",
    "grid_label = \"gr[i]\" (a “secondary” grid), where <i> should be replaced by a positive integer less than 10, which distinguishes this output from\n",
    "other regridded output.\n",
    "```"
   ]
  },
  {
   "cell_type": "markdown",
   "metadata": {},
   "source": [
    "<a id='except'></a>"
   ]
  },
  {
   "cell_type": "markdown",
   "metadata": {},
   "source": [
    "## time concatenation exceptions: \n",
    "return to [GCS catalog](#catalog) or [NCAR catalog](#NCARcatalog)"
   ]
  },
  {
   "cell_type": "code",
   "execution_count": null,
   "metadata": {},
   "outputs": [],
   "source": [
    "df = pd.read_csv('http://fletcher.ldeo.columbia.edu/catalogs/exceptions.csv')\n",
    "qgrid.show_grid(df)"
   ]
  },
  {
   "cell_type": "markdown",
   "metadata": {},
   "source": [
    "<a id='pathways'></a>"
   ]
  },
  {
   "cell_type": "markdown",
   "metadata": {},
   "source": [
    "## Narratives of the CMIP6 Shared Socio-economic Pathways\n",
    "\n",
    "See this excellent [in-depth explainer](https://www.carbonbrief.org/explainer-how-shared-socioeconomic-pathways-explore-future-climate-change) of the SSP's by Carbonbrief for more info.\n",
    "\n",
    "#### SSP1: Sustainability – Taking the Green Road (Low challenges to mitigation and adaptation)\n",
    "The world shifts gradually, but pervasively, toward a more sustainable path, emphasizing more inclusive development that respects perceived environmental boundaries. Management of the global commons slowly improves, educational and health investments accelerate the demographic transition, and the emphasis on economic growth shifts toward a broader emphasis on human well-being. Driven by an increasing commitment to achieving development goals, inequality is reduced both across and within countries. Consumption is oriented toward low material growth and lower resource and energy intensity.\n",
    "#### SSP2: Middle of the Road (Medium challenges to mitigation and adaptation)\n",
    "The world follows a path in which social, economic, and technological trends do not shift markedly from historical patterns. Development and income growth proceeds unevenly, with some countries making relatively good progress while others fall short of expectations. Global and national institutions work toward but make slow progress in achieving sustainable development goals. Environmental systems experience degradation, although there are some improvements and overall the intensity of resource and energy use declines. Global population growth is moderate and levels off in the second half of the century. Income inequality persists or improves only slowly and challenges to reducing vulnerability to societal and environmental changes remain.\n",
    "#### SSP3: Regional Rivalry – A Rocky Road (High challenges to mitigation and adaptation)\n",
    "A resurgent nationalism, concerns about competitiveness and security, and regional conflicts push countries to increasingly focus on domestic or, at most, regional issues. Policies shift over time to become increasingly oriented toward national and regional security issues. Countries focus on achieving energy and food security goals within their own regions at the expense of broader-based development. Investments in education and technological development decline. Economic development is slow, consumption is material-intensive, and inequalities persist or worsen over time. Population growth is low in industrialized and high in developing countries. A low international priority for addressing environmental concerns leads to strong environmental degradation in some regions.\n",
    "#### SSP4: Inequality – A Road Divided (Low challenges to mitigation, high challenges to adaptation)\n",
    "Highly unequal investments in human capital, combined with increasing disparities in economic opportunity and political power, lead to increasing inequalities and stratification both across and within countries. Over time, a gap widens between an internationally-connected society that contributes to knowledge- and capital-intensive sectors of the global economy, and a fragmented collection of lower-income, poorly educated societies that work in a labor intensive, low-tech economy. Social cohesion degrades and conflict and unrest become increasingly common. Technology development is high in the high-tech economy and sectors. The globally connected energy sector diversifies, with investments in both carbon-intensive fuels like coal and unconventional oil, but also low-carbon energy sources. Environmental policies focus on local issues around middle and high income areas.\n",
    "#### SSP5: Fossil-fueled Development – Taking the Highway (High challenges to mitigation, low challenges to adaptation)\n",
    "This world places increasing faith in competitive markets, innovation and participatory societies to produce rapid technological progress and development of human capital as the path to sustainable development. Global markets are increasingly integrated. There are also strong investments in health, education, and institutions to enhance human and social capital. At the same time, the push for economic and social development is coupled with the exploitation of abundant fossil fuel resources and the adoption of resource and energy intensive lifestyles around the world. All these factors lead to rapid growth of the global economy, while global population peaks and declines in the 21st century. Local environmental problems like air pollution are successfully managed. There is faith in the ability to effectively manage social and ecological systems, including by geo-engineering if necessary."
   ]
  },
  {
   "cell_type": "markdown",
   "metadata": {},
   "source": [
    "[return to top](#top)"
   ]
  },
  {
   "cell_type": "markdown",
   "metadata": {},
   "source": [
    "Naomi Henderson (nhn2@columbia.edu), Oct 2019"
   ]
  }
 ],
 "metadata": {
  "kernelspec": {
   "display_name": "pangeo-Oct2019",
   "language": "python",
   "name": "pangeo-oct2019"
  },
  "language_info": {
   "codemirror_mode": {
    "name": "ipython",
    "version": 3
   },
   "file_extension": ".py",
   "mimetype": "text/x-python",
   "name": "python",
   "nbconvert_exporter": "python",
   "pygments_lexer": "ipython3",
   "version": "3.7.3"
  },
  "widgets": {
   "application/vnd.jupyter.widget-state+json": {
    "state": {},
    "version_major": 2,
    "version_minor": 0
   }
  }
 },
 "nbformat": 4,
 "nbformat_minor": 4
}
